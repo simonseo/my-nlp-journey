{
 "cells": [
  {
   "cell_type": "code",
   "execution_count": 1,
   "id": "42105621",
   "metadata": {
    "ExecuteTime": {
     "end_time": "2021-07-10T14:45:40.027048Z",
     "start_time": "2021-07-10T14:45:39.287025Z"
    }
   },
   "outputs": [],
   "source": [
    "import numpy as np\n",
    "from nltk.tree import Tree"
   ]
  },
  {
   "cell_type": "code",
   "execution_count": 9,
   "id": "9d2dcb10",
   "metadata": {
    "ExecuteTime": {
     "end_time": "2021-07-10T14:47:59.374052Z",
     "start_time": "2021-07-10T14:47:59.341060Z"
    }
   },
   "outputs": [],
   "source": [
    "import torch\n",
    "from torch import nn\n",
    "\n",
    "class NaryTreeLSTM(nn.Module):\n",
    "    def __init__(self, dim_h=500, vec_len=500, max_child_num=6):\n",
    "        super(NaryTreeLSTM, self).__init__()\n",
    "\n",
    "        self.dim_vec = vec_len\n",
    "        self.dim_h = dim_h\n",
    "        self.max_child_num = max_child_num\n",
    "        device = \"cuda\" if torch.cuda.is_available() else \"cpu\"\n",
    "        self.device = torch.device(device)\n",
    "\n",
    "        # input gate\n",
    "        self.Wi = nn.parameter.Parameter(torch.randn(self.dim_h, self.dim_vec, device=self.device))\n",
    "        self.bi = nn.parameter.Parameter(torch.zeros(self.dim_h, device=self.device))\n",
    "        self.Uis = nn.parameter.Parameter(torch.randn(max_child_num, self.dim_h, self.dim_h, device=self.device))\n",
    "        # self.register_parameter(\"Wi\", self.Wi)\n",
    "\n",
    "        # forget gate\n",
    "        self.Wf = nn.parameter.Parameter(torch.randn(dim_h, self.dim_vec, device=self.device))\n",
    "        self.bf = nn.parameter.Parameter(torch.zeros(dim_h, device=self.device))\n",
    "        self.Ufs = nn.parameter.Parameter(torch.randn(max_child_num, dim_h, dim_h, device=self.device))\n",
    "\n",
    "        # # output gate\n",
    "        self.Wo = nn.parameter.Parameter(torch.randn(dim_h, self.dim_vec, device=self.device))\n",
    "        self.bo = nn.parameter.Parameter(torch.zeros(dim_h, device=self.device))\n",
    "        self.Uos = nn.parameter.Parameter(torch.randn(max_child_num, dim_h, dim_h, device=self.device))\n",
    "\n",
    "        # # u\n",
    "        self.Wu = nn.parameter.Parameter(torch.randn(dim_h, self.dim_vec, device=self.device))\n",
    "        self.bu = nn.parameter.Parameter(torch.zeros(dim_h, device=self.device))\n",
    "        self.Uus = nn.parameter.Parameter(torch.randn(max_child_num, dim_h, dim_h, device=self.device))\n",
    "\n",
    "    def forward(self, tree, inputs):\n",
    "        node_num = len(tree.treepositions())\n",
    "        node_embedding = torch.zeros(node_num, 500, device=inputs.device)\n",
    "        c, h, outputs = self.encode(tree, inputs, node_embedding, 0)\n",
    "        return c, h, outputs\n",
    "\n",
    "    def encode(self, tree, inputs, node_emb, idx_node=0):\n",
    "        c_children = []\n",
    "        h_children = []\n",
    "        cur_idx = idx_node\n",
    "        idx_node += 1\n",
    "        _input = inputs[cur_idx]\n",
    "        if isinstance(tree, Tree):\n",
    "            for child_idx in range(len(tree)):\n",
    "                if child_idx == self.max_child_num:\n",
    "                    break\n",
    "                child = tree[child_idx]\n",
    "                c_subtree, h_subtree, node_emb = self.encode(child, inputs, node_emb, idx_node)\n",
    "                idx_node += (len(child.treepositions()) if isinstance(child, Tree) else 1)\n",
    "                c_children.append(c_subtree)\n",
    "                h_children.append(h_subtree)\n",
    "        else:\n",
    "            c_children.append(_input)\n",
    "            h_children.append(_input)\n",
    "\n",
    "        c_q, h_q = self.encode_node(_input, c_children, h_children)\n",
    "        node_emb[cur_idx] = h_q\n",
    "        return c_q, h_q, node_emb\n",
    "\n",
    "    def encode_node(self, x, cs, hs):\n",
    "        x = torch.reshape(x, (self.dim_h,))\n",
    "        _Ui = torch.zeros(self.dim_h, device=self.device)\n",
    "        _Uo = torch.zeros(self.dim_h, device=self.device)\n",
    "        _Uu = torch.zeros(self.dim_h, device=self.device)\n",
    "        _Uf = [torch.zeros(self.dim_h, device=self.device) for _ in range(len(cs))]\n",
    "\n",
    "        for idx in range(len(cs)):\n",
    "            _Ui = torch.add(_Ui, torch.matmul(self.Uis[idx], hs[idx]))\n",
    "            _Uo = torch.add(_Uo, torch.matmul(self.Uos[idx], hs[idx]))\n",
    "            _Uu = torch.add(_Uu, torch.matmul(self.Uus[idx], hs[idx]))\n",
    "            for j in range(len(cs)):\n",
    "                _Uf[idx] = torch.add(_Uf[idx], torch.dot(self.Ufs[idx][j].data, hs[j]))\n",
    "\n",
    "        i = torch.sigmoid(torch.add(torch.add(torch.matmul(self.Wi, x), _Ui), self.bi))\n",
    "        o = torch.sigmoid(torch.add(torch.add(torch.matmul(self.Wo, x), _Uo), self.bo))\n",
    "        f = [torch.sigmoid(torch.add(torch.add(torch.matmul(self.Wf, x), _Uf[idx]), self.bf)) for idx in range(len(cs))]\n",
    "        u = torch.tanh(torch.add(torch.add(torch.matmul(self.Wu, x), _Uu), self.bu))\n",
    "\n",
    "        c = torch.zeros(self.dim_h, device=self.device)\n",
    "        for idx in range(len(cs)):\n",
    "            c = torch.add(c, torch.mul(f[idx], cs[idx]))\n",
    "        c = torch.add(torch.mul(i, u), c)\n",
    "        h = torch.mul(o, torch.tanh(c))\n",
    "        return c, h"
   ]
  },
  {
   "cell_type": "code",
   "execution_count": null,
   "id": "50cac3b1",
   "metadata": {},
   "outputs": [],
   "source": []
  },
  {
   "cell_type": "code",
   "execution_count": null,
   "id": "2090ec27",
   "metadata": {},
   "outputs": [],
   "source": [
    "\n",
    "\n",
    "encoder = N_aryTreeLstm()\n",
    "\n",
    "encoder.initialize(ctx=ctx)\n",
    "\n",
    "c, h = self.encoder(tree, inputs, 0, ctx)"
   ]
  },
  {
   "cell_type": "code",
   "execution_count": 10,
   "id": "d750c3e1",
   "metadata": {
    "ExecuteTime": {
     "end_time": "2021-07-10T14:48:02.750140Z",
     "start_time": "2021-07-10T14:48:02.596903Z"
    }
   },
   "outputs": [],
   "source": [
    "encoder = NaryTreeLSTM()"
   ]
  },
  {
   "cell_type": "code",
   "execution_count": 8,
   "id": "312eb1bb",
   "metadata": {
    "ExecuteTime": {
     "end_time": "2021-07-10T14:47:38.614860Z",
     "start_time": "2021-07-10T14:47:38.604503Z"
    }
   },
   "outputs": [
    {
     "data": {
      "text/plain": [
       "device(type='cpu')"
      ]
     },
     "execution_count": 8,
     "metadata": {},
     "output_type": "execute_result"
    }
   ],
   "source": [
    "torch.device('cpu')"
   ]
  },
  {
   "cell_type": "code",
   "execution_count": 13,
   "id": "7eacc284",
   "metadata": {
    "ExecuteTime": {
     "end_time": "2021-07-10T14:49:21.946277Z",
     "start_time": "2021-07-10T14:49:21.943248Z"
    }
   },
   "outputs": [],
   "source": [
    "t = Tree.fromstring(\"(S (NP I) (VP (V saw) (NP him)))\")"
   ]
  },
  {
   "cell_type": "code",
   "execution_count": 14,
   "id": "dcd42785",
   "metadata": {
    "ExecuteTime": {
     "end_time": "2021-07-10T14:49:25.068112Z",
     "start_time": "2021-07-10T14:49:25.054682Z"
    }
   },
   "outputs": [
    {
     "name": "stderr",
     "output_type": "stream",
     "text": [
      "/home/ubuntu/torchtest/lib/python3.6/site-packages/nltk/draw/__init__.py:15: UserWarning: nltk.draw package not loaded (please install Tkinter library).\n",
      "  warnings.warn(\"nltk.draw package not loaded (please install Tkinter library).\")\n"
     ]
    },
    {
     "ename": "ModuleNotFoundError",
     "evalue": "No module named 'tkinter'",
     "output_type": "error",
     "traceback": [
      "\u001b[0;31m---------------------------------------------------------------------------\u001b[0m",
      "\u001b[0;31mModuleNotFoundError\u001b[0m                       Traceback (most recent call last)",
      "\u001b[0;32m~/torchtest/lib/python3.6/site-packages/IPython/core/formatters.py\u001b[0m in \u001b[0;36m__call__\u001b[0;34m(self, obj)\u001b[0m\n\u001b[1;32m    343\u001b[0m             \u001b[0mmethod\u001b[0m \u001b[0;34m=\u001b[0m \u001b[0mget_real_method\u001b[0m\u001b[0;34m(\u001b[0m\u001b[0mobj\u001b[0m\u001b[0;34m,\u001b[0m \u001b[0mself\u001b[0m\u001b[0;34m.\u001b[0m\u001b[0mprint_method\u001b[0m\u001b[0;34m)\u001b[0m\u001b[0;34m\u001b[0m\u001b[0;34m\u001b[0m\u001b[0m\n\u001b[1;32m    344\u001b[0m             \u001b[0;32mif\u001b[0m \u001b[0mmethod\u001b[0m \u001b[0;32mis\u001b[0m \u001b[0;32mnot\u001b[0m \u001b[0;32mNone\u001b[0m\u001b[0;34m:\u001b[0m\u001b[0;34m\u001b[0m\u001b[0;34m\u001b[0m\u001b[0m\n\u001b[0;32m--> 345\u001b[0;31m                 \u001b[0;32mreturn\u001b[0m \u001b[0mmethod\u001b[0m\u001b[0;34m(\u001b[0m\u001b[0;34m)\u001b[0m\u001b[0;34m\u001b[0m\u001b[0;34m\u001b[0m\u001b[0m\n\u001b[0m\u001b[1;32m    346\u001b[0m             \u001b[0;32mreturn\u001b[0m \u001b[0;32mNone\u001b[0m\u001b[0;34m\u001b[0m\u001b[0;34m\u001b[0m\u001b[0m\n\u001b[1;32m    347\u001b[0m         \u001b[0;32melse\u001b[0m\u001b[0;34m:\u001b[0m\u001b[0;34m\u001b[0m\u001b[0;34m\u001b[0m\u001b[0m\n",
      "\u001b[0;32m~/torchtest/lib/python3.6/site-packages/nltk/tree.py\u001b[0m in \u001b[0;36m_repr_png_\u001b[0;34m(self)\u001b[0m\n\u001b[1;32m    798\u001b[0m         \u001b[0;32mimport\u001b[0m \u001b[0msubprocess\u001b[0m\u001b[0;34m\u001b[0m\u001b[0;34m\u001b[0m\u001b[0m\n\u001b[1;32m    799\u001b[0m         \u001b[0;32mimport\u001b[0m \u001b[0mtempfile\u001b[0m\u001b[0;34m\u001b[0m\u001b[0;34m\u001b[0m\u001b[0m\n\u001b[0;32m--> 800\u001b[0;31m         \u001b[0;32mfrom\u001b[0m \u001b[0mnltk\u001b[0m\u001b[0;34m.\u001b[0m\u001b[0mdraw\u001b[0m\u001b[0;34m.\u001b[0m\u001b[0mtree\u001b[0m \u001b[0;32mimport\u001b[0m \u001b[0mtree_to_treesegment\u001b[0m\u001b[0;34m\u001b[0m\u001b[0;34m\u001b[0m\u001b[0m\n\u001b[0m\u001b[1;32m    801\u001b[0m         \u001b[0;32mfrom\u001b[0m \u001b[0mnltk\u001b[0m\u001b[0;34m.\u001b[0m\u001b[0mdraw\u001b[0m\u001b[0;34m.\u001b[0m\u001b[0mutil\u001b[0m \u001b[0;32mimport\u001b[0m \u001b[0mCanvasFrame\u001b[0m\u001b[0;34m\u001b[0m\u001b[0;34m\u001b[0m\u001b[0m\n\u001b[1;32m    802\u001b[0m         \u001b[0;32mfrom\u001b[0m \u001b[0mnltk\u001b[0m\u001b[0;34m.\u001b[0m\u001b[0minternals\u001b[0m \u001b[0;32mimport\u001b[0m \u001b[0mfind_binary\u001b[0m\u001b[0;34m\u001b[0m\u001b[0;34m\u001b[0m\u001b[0m\n",
      "\u001b[0;32m~/torchtest/lib/python3.6/site-packages/nltk/draw/tree.py\u001b[0m in \u001b[0;36m<module>\u001b[0;34m\u001b[0m\n\u001b[1;32m     10\u001b[0m \"\"\"\n\u001b[1;32m     11\u001b[0m \u001b[0;34m\u001b[0m\u001b[0m\n\u001b[0;32m---> 12\u001b[0;31m \u001b[0;32mfrom\u001b[0m \u001b[0mtkinter\u001b[0m \u001b[0;32mimport\u001b[0m \u001b[0mIntVar\u001b[0m\u001b[0;34m,\u001b[0m \u001b[0mMenu\u001b[0m\u001b[0;34m,\u001b[0m \u001b[0mTk\u001b[0m\u001b[0;34m\u001b[0m\u001b[0;34m\u001b[0m\u001b[0m\n\u001b[0m\u001b[1;32m     13\u001b[0m \u001b[0;34m\u001b[0m\u001b[0m\n\u001b[1;32m     14\u001b[0m \u001b[0;32mfrom\u001b[0m \u001b[0mnltk\u001b[0m\u001b[0;34m.\u001b[0m\u001b[0mutil\u001b[0m \u001b[0;32mimport\u001b[0m \u001b[0min_idle\u001b[0m\u001b[0;34m\u001b[0m\u001b[0;34m\u001b[0m\u001b[0m\n",
      "\u001b[0;31mModuleNotFoundError\u001b[0m: No module named 'tkinter'"
     ]
    },
    {
     "data": {
      "text/plain": [
       "Tree('S', [Tree('NP', ['I']), Tree('VP', [Tree('V', ['saw']), Tree('NP', ['him'])])])"
      ]
     },
     "execution_count": 14,
     "metadata": {},
     "output_type": "execute_result"
    }
   ],
   "source": [
    "t"
   ]
  },
  {
   "cell_type": "code",
   "execution_count": null,
   "id": "15a1839e",
   "metadata": {},
   "outputs": [],
   "source": []
  },
  {
   "cell_type": "code",
   "execution_count": null,
   "id": "0187b768",
   "metadata": {},
   "outputs": [],
   "source": []
  },
  {
   "cell_type": "code",
   "execution_count": null,
   "id": "e758e2f6",
   "metadata": {},
   "outputs": [],
   "source": []
  },
  {
   "cell_type": "code",
   "execution_count": null,
   "id": "609d7c19",
   "metadata": {},
   "outputs": [],
   "source": []
  },
  {
   "cell_type": "code",
   "execution_count": null,
   "id": "2d5e9c93",
   "metadata": {},
   "outputs": [],
   "source": []
  },
  {
   "cell_type": "code",
   "execution_count": null,
   "id": "4dedac26",
   "metadata": {},
   "outputs": [],
   "source": []
  },
  {
   "cell_type": "code",
   "execution_count": null,
   "id": "f1cd8539",
   "metadata": {},
   "outputs": [],
   "source": []
  }
 ],
 "metadata": {
  "kernelspec": {
   "display_name": "torchtest",
   "language": "python",
   "name": "torchtest"
  },
  "language_info": {
   "codemirror_mode": {
    "name": "ipython",
    "version": 3
   },
   "file_extension": ".py",
   "mimetype": "text/x-python",
   "name": "python",
   "nbconvert_exporter": "python",
   "pygments_lexer": "ipython3",
   "version": "3.6.9"
  },
  "toc": {
   "base_numbering": 1,
   "nav_menu": {},
   "number_sections": true,
   "sideBar": true,
   "skip_h1_title": false,
   "title_cell": "Table of Contents",
   "title_sidebar": "Contents",
   "toc_cell": false,
   "toc_position": {},
   "toc_section_display": true,
   "toc_window_display": false
  }
 },
 "nbformat": 4,
 "nbformat_minor": 5
}
