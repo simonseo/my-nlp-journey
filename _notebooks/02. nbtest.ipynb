{
 "cells": [
  {
   "cell_type": "markdown",
   "id": "a47b778e",
   "metadata": {},
   "source": [
    "# blah"
   ]
  },
  {
   "cell_type": "markdown",
   "id": "10c1bd73",
   "metadata": {},
   "source": [
    "## blah"
   ]
  },
  {
   "cell_type": "markdown",
   "id": "65ad49a6",
   "metadata": {},
   "source": [
    "## blah"
   ]
  },
  {
   "cell_type": "code",
   "execution_count": 5,
   "id": "3ef1f0f0",
   "metadata": {
    "ExecuteTime": {
     "end_time": "2021-07-10T07:18:42.736569Z",
     "start_time": "2021-07-10T07:18:42.731802Z"
    }
   },
   "outputs": [
    {
     "name": "stdout",
     "output_type": "stream",
     "text": [
      "0\n",
      "0\n",
      "1\n",
      "1\n",
      "2\n",
      "4\n",
      "3\n",
      "9\n",
      "4\n",
      "16\n"
     ]
    }
   ],
   "source": [
    "for i in range(5):\n",
    "    print(i)\n",
    "    print(i**2)"
   ]
  },
  {
   "cell_type": "code",
   "execution_count": 6,
   "id": "4897637a",
   "metadata": {
    "ExecuteTime": {
     "end_time": "2021-07-10T07:18:42.757789Z",
     "start_time": "2021-07-10T07:18:42.742965Z"
    }
   },
   "outputs": [],
   "source": [
    "a = 5\n"
   ]
  },
  {
   "cell_type": "code",
   "execution_count": 7,
   "id": "d3bc1bc1",
   "metadata": {
    "ExecuteTime": {
     "end_time": "2021-07-10T07:18:42.767474Z",
     "start_time": "2021-07-10T07:18:42.760030Z"
    }
   },
   "outputs": [],
   "source": [
    "aaaa = 10"
   ]
  },
  {
   "cell_type": "code",
   "execution_count": null,
   "id": "2843e26f",
   "metadata": {},
   "outputs": [],
   "source": []
  },
  {
   "cell_type": "code",
   "execution_count": 8,
   "id": "27d2fff3",
   "metadata": {
    "ExecuteTime": {
     "end_time": "2021-07-10T07:18:42.823151Z",
     "start_time": "2021-07-10T07:18:42.770186Z"
    }
   },
   "outputs": [
    {
     "ename": "NameError",
     "evalue": "name 'aa' is not defined",
     "output_type": "error",
     "traceback": [
      "\u001b[0;31m---------------------------------------------------------------------------\u001b[0m",
      "\u001b[0;31mNameError\u001b[0m                                 Traceback (most recent call last)",
      "\u001b[0;32m<ipython-input-8-312382290f4f>\u001b[0m in \u001b[0;36m<module>\u001b[0;34m\u001b[0m\n\u001b[0;32m----> 1\u001b[0;31m \u001b[0maa\u001b[0m\u001b[0;34m\u001b[0m\u001b[0;34m\u001b[0m\u001b[0m\n\u001b[0m",
      "\u001b[0;31mNameError\u001b[0m: name 'aa' is not defined"
     ]
    }
   ],
   "source": []
  },
  {
   "cell_type": "code",
   "execution_count": null,
   "id": "e57b0dba",
   "metadata": {},
   "outputs": [],
   "source": []
  },
  {
   "cell_type": "code",
   "execution_count": 1,
   "id": "3a56c8b9",
   "metadata": {
    "ExecuteTime": {
     "end_time": "2021-07-10T07:24:12.522829Z",
     "start_time": "2021-07-10T07:24:12.502276Z"
    }
   },
   "outputs": [],
   "source": [
    "%config Completer.use_jedi = False"
   ]
  }
 ],
 "metadata": {
  "kernelspec": {
   "display_name": "torchtest",
   "language": "python",
   "name": "torchtest"
  },
  "language_info": {
   "codemirror_mode": {
    "name": "ipython",
    "version": 3
   },
   "file_extension": ".py",
   "mimetype": "text/x-python",
   "name": "python",
   "nbconvert_exporter": "python",
   "pygments_lexer": "ipython3",
   "version": "3.6.9"
  },
  "toc": {
   "base_numbering": 1,
   "nav_menu": {
    "height": "239px",
    "width": "160px"
   },
   "number_sections": true,
   "sideBar": true,
   "skip_h1_title": false,
   "title_cell": "Table of Contents",
   "title_sidebar": "Contents",
   "toc_cell": false,
   "toc_position": {},
   "toc_section_display": true,
   "toc_window_display": false
  }
 },
 "nbformat": 4,
 "nbformat_minor": 5
}
